{
 "cells": [
  {
   "cell_type": "markdown",
   "id": "7dbd954f-872b-4afa-884e-03b1a1f036d4",
   "metadata": {},
   "source": [
    "Q1 Create one variable containing following type of data:\n",
    "(i) string\n",
    "(ii) list\n",
    "(iii) float\n",
    "(iv) tuple"
   ]
  },
  {
   "cell_type": "code",
   "execution_count": null,
   "id": "cd6f9337-b1ac-4e5d-bbb7-bbc63dad7aba",
   "metadata": {},
   "outputs": [],
   "source": [
    "#string\n",
    "my_string = \"Hello, World!\"\n",
    "\n",
    "#list\n",
    "my_list = [1, 2, 3, 4, 5]\n",
    "\n",
    "#float\n",
    "my_float = 3.14159\n",
    "\n",
    "#tuple\n",
    "my_tuple = (6, 7, 8, 9, 10)\n"
   ]
  },
  {
   "cell_type": "markdown",
   "id": "694171e5-c51f-49dc-bec9-4b1f1777e7b0",
   "metadata": {},
   "source": [
    "Q2 Given are some following variables containing data:\n",
    "(i) var1 = ‘ ‘\n",
    "(ii) var2 = ‘[ DS , ML , Python]’\n",
    "(iii) var3 = [ ‘DS’ , ’ML’ , ‘Python’ ]\n",
    "(iv) var4 = 1.\n",
    "What will be the data type of the above given variable."
   ]
  },
  {
   "cell_type": "markdown",
   "id": "4e27b980-59dc-48b5-aa8d-ef5d623a5b03",
   "metadata": {},
   "source": [
    "Ans (i) var1 is a string\n",
    "    (ii) var2 is a string\n",
    "    (iii) var3 is a list of strings\n",
    "    (iv) var4 is a float"
   ]
  },
  {
   "cell_type": "markdown",
   "id": "f5cd30c3-4c82-46be-9e73-ce3eefb8f628",
   "metadata": {},
   "source": [
    "Q3. Explain the use of the following operators using an example:\n",
    "(i) /\n",
    "(ii) %\n",
    "(iii) //\n",
    "(iv) **"
   ]
  },
  {
   "cell_type": "code",
   "execution_count": null,
   "id": "532e32af-2ff1-4a7e-9d3d-f56e2e1ae997",
   "metadata": {},
   "outputs": [],
   "source": [
    "#(i) / (Division Operator):\n",
    "    \n",
    "a = 5\n",
    "b = 3\n",
    "result = a / b\n",
    "print(result)  # Output:1.6666666666666667\n",
    "\n",
    "#(ii) % (Modulo Operator):\n",
    "\n",
    "a = 5\n",
    "b = 3\n",
    "remainder = a % b\n",
    "print(remainder)  # Output:2\n",
    "\n",
    "#(iii) // (Floor Division Operator):\n",
    "\n",
    "a = 5\n",
    "b = 3\n",
    "result = a // b\n",
    "print(result)  # Output:1 \n",
    "\n",
    "#(iv) ** (Exponentiation Operator):\n",
    "\n",
    "a = 5\n",
    "b = 3\n",
    "result = a ** b\n",
    "print(result)  # Output: 125\n",
    "\n",
    "\n"
   ]
  },
  {
   "cell_type": "markdown",
   "id": "aa3c4a56-4c70-483e-82f5-aea6fc6c6df3",
   "metadata": {},
   "source": [
    "Q4. Create a list of length 10 of your choice containing multiple types of data. Using for loop print the\n",
    "element and its data type."
   ]
  },
  {
   "cell_type": "code",
   "execution_count": null,
   "id": "892517a1-ea2a-4370-8d70-a81ba15d9d3d",
   "metadata": {},
   "outputs": [],
   "source": [
    "l=[2,9,\"rishav\",23.45,True,3+4j,'abc',1.,\"2.5\",0+1j]\n",
    "for i in l:\n",
    "    print(type(i))\n",
    "else:\n",
    "    print(\"this will be execute once for loop will complete\")\n",
    "    \n",
    "#output:\n",
    "'''<class 'int'>\n",
    "<class 'int'>\n",
    "<class 'str'>\n",
    "<class 'float'>\n",
    "<class 'bool'>\n",
    "<class 'complex'>\n",
    "<class 'str'>\n",
    "<class 'float'>\n",
    "<class 'str'>\n",
    "<class 'complex'>\n",
    "this will be execute once for loop will complete'''"
   ]
  },
  {
   "cell_type": "markdown",
   "id": "e6f5e70d-4cd5-4b74-9be7-1c973307a04b",
   "metadata": {},
   "source": [
    "Q5. Using a while loop, verify if the number A is purely divisible by number B and if so then how many\n",
    "times it can be divisible."
   ]
  },
  {
   "cell_type": "code",
   "execution_count": null,
   "id": "0709d8de-d4f0-470d-9e50-847bb12650da",
   "metadata": {},
   "outputs": [],
   "source": [
    "A = 27\n",
    "B = 3\n",
    "count = 0\n",
    "\n",
    "while A % B == 0:\n",
    "    A = A / B\n",
    "    count += 1\n",
    "\n",
    "print(f\"The number A is divisible by B {count} times.\")\n",
    "\n",
    "#user input\n",
    "\n",
    "A = int(input(\"Enter the dividend (number A): \"))\n",
    "B = int(input(\"Enter the divisor (number B): \"))\n",
    "\n",
    "count = 0\n",
    "while A % B == 0:\n",
    "    A = A / B\n",
    "    count += 1\n",
    "\n",
    "print(f\"Number A is divisible by number B {count} times.\")"
   ]
  },
  {
   "cell_type": "markdown",
   "id": "f7ccede6-21db-48f2-beed-c6872137198c",
   "metadata": {},
   "source": [
    "Q6. Create a list containing 25 int type data. Using for loop and if-else condition print if the element is\n",
    "divisible by 3 or not."
   ]
  },
  {
   "cell_type": "code",
   "execution_count": null,
   "id": "cd98d2bd-8d2e-461c-a3b5-f92a01c7bcd8",
   "metadata": {},
   "outputs": [],
   "source": [
    "my_list = [6, 12, 13, 17, 20, 27, 30, 32, 36, 39, 43, 45, 50, 51, 55, 60, 63, 66, 72, 77, 85, 80, 93, 107, 120]\n",
    "\n",
    "for num in my_list:\n",
    "    if num % 3 == 0:\n",
    "        print(f\"{num} is divisible by 3.\")\n",
    "    else:\n",
    "        print(f\"{num} is not divisible by 3.\")\n",
    "        \n",
    "#output\n",
    "6 is divisible by 3.\n",
    "12 is divisible by 3.\n",
    "13 is not divisible by 3.\n",
    "17 is not divisible by 3.\n",
    "20 is not divisible by 3.\n",
    "27 is divisible by 3.\n",
    "30 is divisible by 3.\n",
    "32 is not divisible by 3.\n",
    "36 is divisible by 3.\n",
    "39 is divisible by 3.\n",
    "43 is not divisible by 3.\n",
    "45 is divisible by 3.\n",
    "50 is not divisible by 3.\n",
    "51 is divisible by 3.\n",
    "55 is not divisible by 3.\n",
    "60 is divisible by 3.\n",
    "63 is divisible by 3.\n",
    "66 is divisible by 3.\n",
    "72 is divisible by 3.\n",
    "77 is not divisible by 3.\n",
    "85 is not divisible by 3.\n",
    "80 is not divisible by 3.\n",
    "93 is divisible by 3.\n",
    "107 is not divisible by 3.\n",
    "120 is divisible by 3."
   ]
  },
  {
   "cell_type": "markdown",
   "id": "31f3a259-80fc-4693-94e9-0b3a7626c00f",
   "metadata": {},
   "source": [
    "Q7. What do you understand about mutable and immutable data types? Give examples for both showing\n",
    "this property."
   ]
  },
  {
   "cell_type": "code",
   "execution_count": null,
   "id": "a426fa67-2664-4462-bcef-d1d2dd0e26c6",
   "metadata": {},
   "outputs": [],
   "source": [
    "'''mutable and immutable data types refer to whether the value of a data type can be changed after it has been created.\n",
    "\n",
    "An immutable data type means that its value cannot be modified once it is created. It remains fixed or constant. Examples of immutable data types include integers, floating-point numbers, strings, and tuples.\n",
    "\n",
    "For example,\n",
    "'''\n",
    "#mutable : list,dict,set\n",
    "my_list = [1, 2, 3]\n",
    "\n",
    "# Modifying the list by appending an element\n",
    "my_list.append(4)\n",
    "\n",
    "# Modifying the list by changing an element\n",
    "my_list[1] = 5\n",
    "\n",
    "\n",
    "#immutable:string,tuple\n",
    "\n",
    "print(my_list)  # Output: [1, 5, 3, 4]\n",
    "\n",
    "name = \"Subh\"\n",
    "\n",
    "# Trying to modify the string by replacing a character\n",
    "name[0] = \"B\"  # This will result in a TypeError\n",
    "\n",
    "print(name)\n",
    "\n"
   ]
  }
 ],
 "metadata": {
  "kernelspec": {
   "display_name": "Python 3 (ipykernel)",
   "language": "python",
   "name": "python3"
  },
  "language_info": {
   "codemirror_mode": {
    "name": "ipython",
    "version": 3
   },
   "file_extension": ".py",
   "mimetype": "text/x-python",
   "name": "python",
   "nbconvert_exporter": "python",
   "pygments_lexer": "ipython3",
   "version": "3.10.8"
  }
 },
 "nbformat": 4,
 "nbformat_minor": 5
}
